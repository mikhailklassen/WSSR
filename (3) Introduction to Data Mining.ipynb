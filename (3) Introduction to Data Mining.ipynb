{
 "cells": [
  {
   "cell_type": "markdown",
   "metadata": {},
   "source": [
    "# Working with Data in Python using `pandas`\n",
    "\n",
    "<img src=\"https://pandas.pydata.org/_static/pandas_logo.png\">"
   ]
  },
  {
   "cell_type": "markdown",
   "metadata": {},
   "source": [
    "## Example: World Population Growth"
   ]
  },
  {
   "cell_type": "markdown",
   "metadata": {},
   "source": [
    "Read in the UN population data"
   ]
  },
  {
   "cell_type": "code",
   "execution_count": null,
   "metadata": {},
   "outputs": [],
   "source": [
    "import pandas as pd\n",
    "\n",
    "data = pd.read_csv('Data/population.csv')"
   ]
  },
  {
   "cell_type": "markdown",
   "metadata": {},
   "source": [
    "Print the data"
   ]
  },
  {
   "cell_type": "code",
   "execution_count": null,
   "metadata": {},
   "outputs": [],
   "source": [
    "data"
   ]
  },
  {
   "cell_type": "markdown",
   "metadata": {},
   "source": [
    "Print just the first few rows of data."
   ]
  },
  {
   "cell_type": "code",
   "execution_count": null,
   "metadata": {},
   "outputs": [],
   "source": [
    "data.head()"
   ]
  },
  {
   "cell_type": "markdown",
   "metadata": {},
   "source": [
    "Print column names"
   ]
  },
  {
   "cell_type": "code",
   "execution_count": null,
   "metadata": {},
   "outputs": [],
   "source": [
    "data.columns"
   ]
  },
  {
   "cell_type": "markdown",
   "metadata": {},
   "source": [
    "### Select columns"
   ]
  },
  {
   "cell_type": "code",
   "execution_count": null,
   "metadata": {},
   "outputs": [],
   "source": [
    "my_columns = ['Year','Series','Value']\n",
    "\n",
    "data[my_columns].head()"
   ]
  },
  {
   "cell_type": "markdown",
   "metadata": {},
   "source": [
    "Select data based on a matching criterion."
   ]
  },
  {
   "cell_type": "code",
   "execution_count": null,
   "metadata": {},
   "outputs": [],
   "source": [
    "year = 2005\n",
    "\n",
    "data[data['Year'] == year].head(n=20)"
   ]
  },
  {
   "cell_type": "code",
   "execution_count": null,
   "metadata": {},
   "outputs": [],
   "source": [
    "series = \"Population mid-year estimates (millions)\"\n",
    "\n",
    "data[data['Series'] == series]"
   ]
  },
  {
   "cell_type": "code",
   "execution_count": null,
   "metadata": {},
   "outputs": [],
   "source": [
    "# We can contruct more complex matching criteria. Here we want all \n",
    "# the mid-year population estimates for Canada.\n",
    "query = (data[\"Region/Country/Area\"] == \"Canada\") & \\\n",
    "        (data[\"Series\"] == \"Population mid-year estimates (millions)\")\n",
    "\n",
    "data[query]"
   ]
  },
  {
   "cell_type": "code",
   "execution_count": null,
   "metadata": {},
   "outputs": [],
   "source": [
    "# We can contruct more complex matching criteria. Here we want all \n",
    "# the mid-year population estimates for Canada.\n",
    "query = (data[\"Region/Country/Area\"] == \"Germany\") & \\\n",
    "        (data[\"Series\"] == \"Population mid-year estimates (millions)\")\n",
    "\n",
    "data[query]"
   ]
  },
  {
   "cell_type": "code",
   "execution_count": null,
   "metadata": {},
   "outputs": [],
   "source": [
    "import pandas as pd\n",
    "\n",
    "world = pd.read_csv('Data/world_population.csv')"
   ]
  },
  {
   "cell_type": "code",
   "execution_count": null,
   "metadata": {},
   "outputs": [],
   "source": [
    "world.head(n=20)"
   ]
  },
  {
   "cell_type": "code",
   "execution_count": null,
   "metadata": {},
   "outputs": [],
   "source": [
    "world = world[::-1]"
   ]
  },
  {
   "cell_type": "code",
   "execution_count": null,
   "metadata": {},
   "outputs": [],
   "source": [
    "high = world[world[\"Variant\"] == \"High\"]\n",
    "med  = world[world[\"Variant\"] == \"Medium\"]\n",
    "low  = world[world[\"Variant\"] == \"Low\"]"
   ]
  },
  {
   "cell_type": "markdown",
   "metadata": {},
   "source": [
    "### Plot the world population by year for the three scenarios"
   ]
  },
  {
   "cell_type": "code",
   "execution_count": null,
   "metadata": {},
   "outputs": [],
   "source": [
    "import matplotlib.pyplot as plt\n",
    "\n",
    "# Get the data for each variant, store as arrays\n",
    "years_h = high[\"Year(s)\"].values\n",
    "years_m = med[\"Year(s)\"].values\n",
    "years_l = low[\"Year(s)\"].values\n",
    "\n",
    "# Population in thousands, convert to billions\n",
    "pop_h = high[\"Value\"].values / 1.0e6\n",
    "pop_m = med[\"Value\"].values / 1.0e6\n",
    "pop_l = low[\"Value\"].values / 1.0e6\n",
    "\n",
    "# Plot population against against years\n",
    "plt.plot(years_l, pop_l)\n",
    "plt.plot(years_m, pop_m)\n",
    "plt.plot(years_h, pop_h)\n",
    "plt.legend([\"Low\", \"Medium\", \"High\"])\n",
    "plt.grid(True, alpha=0.3)"
   ]
  },
  {
   "cell_type": "markdown",
   "metadata": {},
   "source": [
    "## Learn More\n",
    "\n",
    "You can learn more about `pandas` by visiting the [homepage](https://pandas.pydata.org/).\n",
    "\n",
    "For a 10-minute tutorial, read \"[10 minutes to pandas](https://pandas.pydata.org/pandas-docs/stable/getting_started/10min.html)\"."
   ]
  },
  {
   "cell_type": "code",
   "execution_count": null,
   "metadata": {},
   "outputs": [],
   "source": []
  }
 ],
 "metadata": {
  "kernelspec": {
   "display_name": "Python 3",
   "language": "python",
   "name": "python3"
  },
  "language_info": {
   "codemirror_mode": {
    "name": "ipython",
    "version": 3
   },
   "file_extension": ".py",
   "mimetype": "text/x-python",
   "name": "python",
   "nbconvert_exporter": "python",
   "pygments_lexer": "ipython3",
   "version": "3.6.2"
  }
 },
 "nbformat": 4,
 "nbformat_minor": 2
}
